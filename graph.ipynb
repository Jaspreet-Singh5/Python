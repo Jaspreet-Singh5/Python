{
 "cells": [
  {
   "cell_type": "code",
   "execution_count": 1,
   "metadata": {},
   "outputs": [],
   "source": [
    "def shell():\n",
    "    \n",
    "    while True:\n",
    "        try:\n",
    "            print('================================================================================')\n",
    "            print('================================================================================')\n",
    "            n = int(input('Enter the number of vertices or enter 0 to exit: '))\n",
    "        except:\n",
    "            print('Something went wrong :(')\n",
    "            continue           \n",
    "        finally:\n",
    "            if n == 0:\n",
    "                break\n",
    "        \n",
    "        getValues(n)"
   ]
  },
  {
   "cell_type": "code",
   "execution_count": 2,
   "metadata": {},
   "outputs": [],
   "source": [
    "def getValues(n):\n",
    "    graph = {}\n",
    "    \n",
    "    for i in range(n):\n",
    "        print('================================================================================')\n",
    "        vertex = input('Enter the start vertice: ')\n",
    "        print(vertex)\n",
    "        graph[vertex] = []\n",
    "        \n",
    "        while True:\n",
    "            try:\n",
    "                graph[vertex].append(input('Enter the end vertice or enter 0 to exit: '))\n",
    "            except:\n",
    "                print('Something went wrong :(')\n",
    "                continue           \n",
    "            finally:\n",
    "                if graph[vertex][-1] == '0':\n",
    "                    graph[vertex].remove('0')\n",
    "                    break\n",
    "                    \n",
    "    print('>>>',end=' ')\n",
    "    print(graph)"
   ]
  },
  {
   "cell_type": "code",
   "execution_count": 3,
   "metadata": {},
   "outputs": [
    {
     "name": "stdout",
     "output_type": "stream",
     "text": [
      "================================================================================\n",
      "================================================================================\n",
      "Enter the number of vertices or enter 0 to exit: 4\n",
      "================================================================================\n",
      "Enter the start vertice: A\n",
      "A\n",
      "Enter the end vertice or enter 0 to exit: B\n",
      "Enter the end vertice or enter 0 to exit: A\n",
      "Enter the end vertice or enter 0 to exit: C\n",
      "Enter the end vertice or enter 0 to exit: A\n",
      "Enter the end vertice or enter 0 to exit: F\n",
      "Enter the end vertice or enter 0 to exit: A\n",
      "Enter the end vertice or enter 0 to exit: B\n",
      "Enter the end vertice or enter 0 to exit: A\n",
      "Enter the end vertice or enter 0 to exit: E\n",
      "Enter the end vertice or enter 0 to exit: A\n",
      "Enter the end vertice or enter 0 to exit: B\n",
      "Enter the end vertice or enter 0 to exit: E\n",
      "Enter the end vertice or enter 0 to exit: B\n",
      "Enter the end vertice or enter 0 to exit: D\n",
      "Enter the end vertice or enter 0 to exit: 0\n",
      "================================================================================\n",
      "Enter the start vertice: S\n",
      "S\n",
      "Enter the end vertice or enter 0 to exit: V\n",
      "Enter the end vertice or enter 0 to exit: 0\n",
      "================================================================================\n",
      "Enter the start vertice: E\n",
      "E\n",
      "Enter the end vertice or enter 0 to exit: g\n",
      "Enter the end vertice or enter 0 to exit: S\n",
      "Enter the end vertice or enter 0 to exit: G\n",
      "Enter the end vertice or enter 0 to exit: 0\n",
      "================================================================================\n",
      "Enter the start vertice: \n",
      "\n",
      "Enter the end vertice or enter 0 to exit: F\n",
      "Enter the end vertice or enter 0 to exit: S\n",
      "Enter the end vertice or enter 0 to exit: G\n",
      "Enter the end vertice or enter 0 to exit: 0\n",
      ">>> {'A': ['B', 'A', 'C', 'A', 'F', 'A', 'B', 'A', 'E', 'A', 'B', 'E', 'B', 'D'], 'S': ['V'], 'E': ['g', 'S', 'G'], '': ['F', 'S', 'G']}\n",
      "================================================================================\n",
      "================================================================================\n",
      "Enter the number of vertices or enter 0 to exit: 0\n"
     ]
    }
   ],
   "source": [
    "if __name__ == '__main__':\n",
    "    shell()"
   ]
  },
  {
   "cell_type": "code",
   "execution_count": null,
   "metadata": {},
   "outputs": [],
   "source": []
  },
  {
   "cell_type": "code",
   "execution_count": null,
   "metadata": {},
   "outputs": [],
   "source": []
  },
  {
   "cell_type": "code",
   "execution_count": null,
   "metadata": {},
   "outputs": [],
   "source": []
  },
  {
   "cell_type": "code",
   "execution_count": null,
   "metadata": {},
   "outputs": [],
   "source": []
  }
 ],
 "metadata": {
  "kernelspec": {
   "display_name": "Python 3",
   "language": "python",
   "name": "python3"
  },
  "language_info": {
   "codemirror_mode": {
    "name": "ipython",
    "version": 3
   },
   "file_extension": ".py",
   "mimetype": "text/x-python",
   "name": "python",
   "nbconvert_exporter": "python",
   "pygments_lexer": "ipython3",
   "version": "3.7.1"
  }
 },
 "nbformat": 4,
 "nbformat_minor": 2
}
