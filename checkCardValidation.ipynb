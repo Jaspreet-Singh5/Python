{
 "cells": [
  {
   "cell_type": "code",
   "execution_count": 1,
   "metadata": {},
   "outputs": [],
   "source": [
    "import re"
   ]
  },
  {
   "cell_type": "code",
   "execution_count": 2,
   "metadata": {},
   "outputs": [],
   "source": [
    "def regCheck(num):\n",
    "    \n",
    "    TESTER = re.compile(\n",
    "        r\"^\"\n",
    "        r\"(?!.*(\\d)(-?\\1){3})\"\n",
    "        r\"[456]\"\n",
    "        r\"\\d{3}\"\n",
    "        r\"(?:-?\\d{4}){3}\"\n",
    "        r\"$\")\n",
    "    \n",
    "    s = [str(i) for i in num]\n",
    "    res = str(\"\".join(s))\n",
    "    \n",
    "    return TESTER.search(res)"
   ]
  },
  {
   "cell_type": "code",
   "execution_count": 3,
   "metadata": {},
   "outputs": [],
   "source": [
    "def checkCard(num):\n",
    "    num = list(map(int,str(num)))\n",
    "    \n",
    "    if not regCheck(num):\n",
    "        return 'Invalid!'\n",
    "    \n",
    "    for i, n in enumerate(num):\n",
    "        if i % 2 == 0:\n",
    "            num[i] *= 2 \n",
    "            \n",
    "            if len(str(num[i])) == 2:\n",
    "                digit = list(map(int,str(num[i]))) \n",
    "                num[i] = digit[0] + digit[1]\n",
    "    print(sum(num))\n",
    "    if (sum(num)) % 10 == 0:\n",
    "        return 'Valid!'\n",
    "    return 'Invalid!'"
   ]
  },
  {
   "cell_type": "code",
   "execution_count": 4,
   "metadata": {},
   "outputs": [],
   "source": [
    "def shell():\n",
    "    while True:\n",
    "        try:\n",
    "            n = int(input('Enter a card number or enter 0 to exit: '))\n",
    "        except:\n",
    "            print('Something went wrong :(')\n",
    "            continue\n",
    "        else:\n",
    "            if n == 0:\n",
    "                break\n",
    "                \n",
    "        print('>>>',end=' ')\n",
    "        print(checkCard(n))"
   ]
  },
  {
   "cell_type": "code",
   "execution_count": 5,
   "metadata": {},
   "outputs": [
    {
     "name": "stdout",
     "output_type": "stream",
     "text": [
      "Enter a card number or enter 0 to exit: 5123456789123456\n",
      ">>> 69\n",
      "Invalid!\n",
      "Enter a card number or enter 0 to exit: 5123456789123457\n",
      ">>> 70\n",
      "Valid!\n",
      "Enter a card number or enter 0 to exit: 0\n"
     ]
    }
   ],
   "source": [
    "if __name__ == '__main__':\n",
    "    shell()"
   ]
  },
  {
   "cell_type": "code",
   "execution_count": 7,
   "metadata": {},
   "outputs": [
    {
     "name": "stdout",
     "output_type": "stream",
     "text": [
      "   24548\n"
     ]
    },
    {
     "data": {
      "text/plain": [
       "24548"
      ]
     },
     "execution_count": 7,
     "metadata": {},
     "output_type": "execute_result"
    }
   ],
   "source": [
    "int(input().strip())"
   ]
  },
  {
   "cell_type": "code",
   "execution_count": 11,
   "metadata": {},
   "outputs": [
    {
     "name": "stdout",
     "output_type": "stream",
     "text": [
      "123124124122512\n",
      "Invalid\n"
     ]
    }
   ],
   "source": []
  },
  {
   "cell_type": "code",
   "execution_count": null,
   "metadata": {},
   "outputs": [],
   "source": [
    "import re\n",
    "TESTER = re.compile(\n",
    "    r\"^\"\n",
    "    r\"(?!.*(\\d)(-?\\1){3})\"\n",
    "    r\"[456]\"\n",
    "    r\"\\d{3}\"\n",
    "    r\"(?:-?\\d{4}){3}\"\n",
    "    r\"$\")\n",
    "\n",
    "print(\"Valid\" if TESTER.search(input().strip()) else \"Invalid\")"
   ]
  },
  {
   "cell_type": "code",
   "execution_count": null,
   "metadata": {},
   "outputs": [],
   "source": []
  }
 ],
 "metadata": {
  "kernelspec": {
   "display_name": "Python 3",
   "language": "python",
   "name": "python3"
  },
  "language_info": {
   "codemirror_mode": {
    "name": "ipython",
    "version": 3
   },
   "file_extension": ".py",
   "mimetype": "text/x-python",
   "name": "python",
   "nbconvert_exporter": "python",
   "pygments_lexer": "ipython3",
   "version": "3.7.1"
  }
 },
 "nbformat": 4,
 "nbformat_minor": 2
}
