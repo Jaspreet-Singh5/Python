{
 "cells": [
  {
   "cell_type": "code",
   "execution_count": 21,
   "metadata": {},
   "outputs": [],
   "source": [
    "class Airline:\n",
    "    CLASS_BUSINESS = 'Business Class'\n",
    "    CLASS_ECONOMY  = 'Regular Economy'\n",
    "    CLASS_PREMIUM_ECONOMY = 'Premium Economy'\n",
    "    CLASS_FIRST = 'First Class'\n",
    "    \n",
    "    def __init__(self,airline_name):\n",
    "        self.airline_name = airline_name\n",
    "        self.seats = {\n",
    "            self.CLASS_BUSINESS: 50,\n",
    "            self.CLASS_ECONOMY: 150,\n",
    "            self.CLASS_PREMIUM_ECONOMY: 100,\n",
    "            self.CLASS_FIRST: 50,\n",
    "        }\n",
    "        self.prices = {\n",
    "            self.CLASS_BUSINESS: 5000,\n",
    "            self.CLASS_ECONOMY: 2500,\n",
    "            self.CLASS_PREMIUM_ECONOMY: 3500,\n",
    "            self.CLASS_FIRST: 4500,\n",
    "        }\n",
    "        \n",
    "    def is_available(self, booking_class):\n",
    "        return self.seats[booking_class] > 0\n",
    "    \n",
    "    def booking(self,customer,booking_class,seats):\n",
    "        if self.is_available(booking_class):\n",
    "            print('Seat booked!!')\n",
    "            self.seats[booking_class] -= seats\n",
    "            \n",
    "            customer.calcBill(self.prices[booking_class],seats)\n",
    "            customer.printBill()\n",
    "            \n",
    "        else:\n",
    "            print('Sorry! seats not available :(')\n",
    "    \n",
    "    def getSeatMatrix(self):\n",
    "        for key, value in self.seats.items():\n",
    "            print(f'{key}: {value}')"
   ]
  },
  {
   "cell_type": "code",
   "execution_count": 22,
   "metadata": {},
   "outputs": [],
   "source": [
    "class Customer:\n",
    "    def __init__(self,name,age):\n",
    "        self.name = name\n",
    "        self.age = age\n",
    "        self.cost = 0\n",
    "    \n",
    "    def calcBill(self,price,seats):\n",
    "        self.cost += price * seats\n",
    "    \n",
    "    def printBill(self):\n",
    "        print(f'Name: {self.name}')\n",
    "        print(f'Age: {self.age}')\n",
    "        print(f'Cost: {self.cost}')"
   ]
  },
  {
   "cell_type": "code",
   "execution_count": 23,
   "metadata": {},
   "outputs": [],
   "source": [
    "air = Airline('Air India')"
   ]
  },
  {
   "cell_type": "code",
   "execution_count": 24,
   "metadata": {},
   "outputs": [
    {
     "name": "stdout",
     "output_type": "stream",
     "text": [
      "Seat booked!!\n",
      "Name: aspp\n",
      "Age: 12\n",
      "Cost: 250000\n"
     ]
    }
   ],
   "source": [
    "air.booking(customer,'Regular Economy',100)"
   ]
  },
  {
   "cell_type": "code",
   "execution_count": 27,
   "metadata": {},
   "outputs": [
    {
     "name": "stdout",
     "output_type": "stream",
     "text": [
      "Business Class: 50\n",
      "Regular Economy: 50\n",
      "Premium Economy: 100\n",
      "First Class: 50\n"
     ]
    }
   ],
   "source": [
    "air.getSeatMatrix()"
   ]
  },
  {
   "cell_type": "code",
   "execution_count": 28,
   "metadata": {},
   "outputs": [
    {
     "name": "stdout",
     "output_type": "stream",
     "text": [
      "Enter your name: asd\n",
      "Enter your age: 12\n"
     ]
    }
   ],
   "source": [
    "name = input('Enter your name: ')\n",
    "age = input('Enter your age: ')\n",
    "customer = Customer(name,age)"
   ]
  },
  {
   "cell_type": "code",
   "execution_count": null,
   "metadata": {},
   "outputs": [],
   "source": []
  },
  {
   "cell_type": "code",
   "execution_count": null,
   "metadata": {},
   "outputs": [],
   "source": []
  },
  {
   "cell_type": "code",
   "execution_count": null,
   "metadata": {},
   "outputs": [],
   "source": []
  },
  {
   "cell_type": "code",
   "execution_count": null,
   "metadata": {},
   "outputs": [],
   "source": []
  }
 ],
 "metadata": {
  "kernelspec": {
   "display_name": "Python 3",
   "language": "python",
   "name": "python3"
  },
  "language_info": {
   "codemirror_mode": {
    "name": "ipython",
    "version": 3
   },
   "file_extension": ".py",
   "mimetype": "text/x-python",
   "name": "python",
   "nbconvert_exporter": "python",
   "pygments_lexer": "ipython3",
   "version": "3.7.1"
  }
 },
 "nbformat": 4,
 "nbformat_minor": 2
}
