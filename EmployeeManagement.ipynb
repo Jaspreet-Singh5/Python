{
 "cells": [
  {
   "cell_type": "code",
   "execution_count": 1,
   "metadata": {},
   "outputs": [],
   "source": [
    "class Employee:\n",
    "    def __init__(self,name,age,mobile_no):\n",
    "        self.name = name\n",
    "        self.age = age\n",
    "        self.mobile_no = mobile_no\n",
    "    \n",
    "    def __str__(self):\n",
    "        print(f'Name: {self.name} \\nAge: {self.age} \\nMobile number: {self.mobile_no}')\n",
    "        return ' '"
   ]
  },
  {
   "cell_type": "code",
   "execution_count": 2,
   "metadata": {},
   "outputs": [],
   "source": [
    "class HourlyEmployee(Employee):\n",
    "    def __init__(self,name,age,mobile_no,pay,hours=0):\n",
    "        self.pay = pay\n",
    "        self.hours = hours\n",
    "        super().__init__(name,age,mobile_no)\n",
    "        \n",
    "    def pay_day(self):\n",
    "        hours = self.hours\n",
    "        self.hours = 0\n",
    "        return self.pay * hours\n",
    "    \n",
    "    def __str__(self):\n",
    "        return f'{Employee.__str__(self)} \\nPay: {self.pay} \\nHours: {self.hours}'"
   ]
  },
  {
   "cell_type": "code",
   "execution_count": 3,
   "metadata": {},
   "outputs": [],
   "source": [
    "class SalariedEmployee(Employee):\n",
    "    def __init__(self,name,age,mobile_no,pay):\n",
    "        super().__init(name,age,mobile_no)\n",
    "        self.pay = pay\n",
    "    \n",
    "    def pay_day(self):\n",
    "        return self.pay\n",
    "    \n",
    "    def __str__(self):\n",
    "        return f'{Employee.__str__(self)} \\nPay: {self.pay}'"
   ]
  },
  {
   "cell_type": "code",
   "execution_count": 4,
   "metadata": {},
   "outputs": [],
   "source": [
    "class Manager(Employee):\n",
    "    def __init__(self,name,age,mobile_no__,pay):\n",
    "        super().__init__(name,age,mobile_no__)\n",
    "        self.pay = pay\n",
    "    \n",
    "    def pay_day(self,hours):\n",
    "        return self.pay * hours\n",
    "    \n",
    "    def __str__(self):\n",
    "        return f'{Employee.__str__(self)} \\nPay: {self.pay}'"
   ]
  },
  {
   "cell_type": "code",
   "execution_count": 5,
   "metadata": {},
   "outputs": [],
   "source": [
    "class Company():\n",
    "    CLASS_HOURLY_EMPLOYEE = 'Hourly Employee'\n",
    "    CLASS_SALARIED_EMPLOYEE = 'Salaried Employee'\n",
    "    CLASS_MANAGER = 'Manager'\n",
    "    CLASS_EXECUTIVE = 'Executive'\n",
    "    \n",
    "    def __init__(self,name):\n",
    "        self.name = name\n",
    "        self.employees = {\n",
    "            self.CLASS_HOURLY_EMPLOYEE: [], \n",
    "            self.CLASS_SALARIED_EMPLOYEE: [],\n",
    "            self.CLASS_MANAGER: [],\n",
    "            self.CLASS_EXECUTIVE: []\n",
    "        }\n",
    "    \n",
    "    def hireEmp(self,employee,employee_class):\n",
    "        self.employees[employee_class].append(employee)\n",
    "    \n",
    "    def fireEmp(self,employee,employee_class):\n",
    "        self.employees[employee_class].remove(employee)\n",
    "    \n",
    "    def raiseEmp(self,employee,employee_class):\n",
    "        for key, value in self.employees.items():\n",
    "            if employee in value:\n",
    "                value.remove(employee)\n",
    "                break\n",
    "        self.hireEmp(employee,employee_class)\n",
    "    \n",
    "    def printEmp(self):\n",
    "        for key, value in self.employees.items():\n",
    "            print('========================')\n",
    "            print(key)\n",
    "            print('========================')\n",
    "            for i in value:\n",
    "                print(i)\n",
    "            print('\\n\\n')"
   ]
  },
  {
   "cell_type": "code",
   "execution_count": 6,
   "metadata": {},
   "outputs": [
    {
     "name": "stdout",
     "output_type": "stream",
     "text": [
      "Enter your name: asd\n",
      "Enter your age: 12\n",
      "Enter your mobile number: 325343545665\n"
     ]
    }
   ],
   "source": [
    "while True:\n",
    "        try:\n",
    "            name = input('Enter your name: ')\n",
    "            age = input('Enter your age: ')\n",
    "            mobile_no = input('Enter your mobile number: ')\n",
    "        except:\n",
    "            print('Sorry! something went wrong')\n",
    "            continue\n",
    "        finally:\n",
    "            break"
   ]
  },
  {
   "cell_type": "code",
   "execution_count": 10,
   "metadata": {},
   "outputs": [],
   "source": [
    "imb = Company('imb')"
   ]
  },
  {
   "cell_type": "code",
   "execution_count": 7,
   "metadata": {},
   "outputs": [],
   "source": [
    "emp1 = HourlyEmployee(name,age,mobile_no,5000,40)"
   ]
  },
  {
   "cell_type": "code",
   "execution_count": 11,
   "metadata": {},
   "outputs": [
    {
     "name": "stdout",
     "output_type": "stream",
     "text": [
      "Name: asd \n",
      "Age: 12 \n",
      "Mobile number: 325343545665\n",
      "  \n",
      "Pay: 5000 \n",
      "Hours: 40\n"
     ]
    }
   ],
   "source": [
    "print(emp1)"
   ]
  },
  {
   "cell_type": "code",
   "execution_count": 12,
   "metadata": {},
   "outputs": [],
   "source": [
    "imb.hireEmp(emp1,'Manager')"
   ]
  },
  {
   "cell_type": "code",
   "execution_count": 13,
   "metadata": {},
   "outputs": [],
   "source": [
    "imb.raiseEmp(emp1,'Executive')"
   ]
  },
  {
   "cell_type": "code",
   "execution_count": 14,
   "metadata": {},
   "outputs": [
    {
     "name": "stdout",
     "output_type": "stream",
     "text": [
      "========================\n",
      "Hourly Employee\n",
      "========================\n",
      "\n",
      "\n",
      "\n",
      "========================\n",
      "Salaried Employee\n",
      "========================\n",
      "\n",
      "\n",
      "\n",
      "========================\n",
      "Manager\n",
      "========================\n",
      "\n",
      "\n",
      "\n",
      "========================\n",
      "Executive\n",
      "========================\n",
      "Name: asd \n",
      "Age: 12 \n",
      "Mobile number: 325343545665\n",
      "  \n",
      "Pay: 5000 \n",
      "Hours: 40\n",
      "\n",
      "\n",
      "\n"
     ]
    }
   ],
   "source": [
    "imb.printEmp()"
   ]
  },
  {
   "cell_type": "code",
   "execution_count": null,
   "metadata": {},
   "outputs": [],
   "source": []
  }
 ],
 "metadata": {
  "kernelspec": {
   "display_name": "Python 3",
   "language": "python",
   "name": "python3"
  },
  "language_info": {
   "codemirror_mode": {
    "name": "ipython",
    "version": 3
   },
   "file_extension": ".py",
   "mimetype": "text/x-python",
   "name": "python",
   "nbconvert_exporter": "python",
   "pygments_lexer": "ipython3",
   "version": "3.7.1"
  }
 },
 "nbformat": 4,
 "nbformat_minor": 2
}
