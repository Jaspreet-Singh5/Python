{
 "cells": [
  {
   "cell_type": "code",
   "execution_count": 9,
   "metadata": {},
   "outputs": [],
   "source": [
    "from collections import defaultdict"
   ]
  },
  {
   "cell_type": "code",
   "execution_count": 28,
   "metadata": {},
   "outputs": [],
   "source": [
    "class Graph:\n",
    "    def __init__(self,vertices):\n",
    "        self.n = vertices # No. of vertices\n",
    "        self.graph = defaultdict(list)\n",
    "    \n",
    "    def addEdge(self,u,v):\n",
    "        self.graph[u].append(v)\n",
    "        self.graph[v].append(u)\n",
    "    \n",
    "    def removeEdge(self,u,v):\n",
    "        for index, key in enumerate(self.graph[u]):\n",
    "            if key == v:\n",
    "                self.graph[u].pop(index)\n",
    "        \n",
    "        for index, key in enumerate(self.graph[v]):\n",
    "            if key == u:\n",
    "                self.graph[v].pop(index)\n",
    "    \n",
    "    def DFSCount(self,v,visited):\n",
    "        count = 1\n",
    "        visited[v] = True\n",
    "        \n",
    "        for i in self.graph[v]:\n",
    "            if visited[i] == False:\n",
    "                count = count + self.DFSCount(i,visited)\n",
    "        return count\n",
    "    \n",
    "    def isValidNextEdge(self,u,v):\n",
    "        if len(self.graph[u]) == 1:\n",
    "            return True\n",
    "        else:\n",
    "            visited = [False]*(self.n)\n",
    "            count1 = self.DFSCount(u,visited)\n",
    "            \n",
    "            self.removeEdge(u,v)\n",
    "            \n",
    "            visited = [False]*(self.n)\n",
    "            count2 = self.DFSCount(u,visited)\n",
    "            \n",
    "            return False if count1 > count2 else True\n",
    "        \n",
    "    def printEuler(self,u):\n",
    "        for v in self.graph[u]:\n",
    "            if self.isValidNextEdge(u,v):\n",
    "                print(f'{u}-{v}')\n",
    "                self.removeEdge(u,v)\n",
    "                self.printEuler(v)\n",
    "    \n",
    "    def printEulerTour(self):\n",
    "        u=0\n",
    "        \n",
    "        for i in range(self.n):\n",
    "            if len(self.graph[i]) % 2 != 0:\n",
    "                u = i\n",
    "                break\n",
    "                \n",
    "        print(\"===================================\")\n",
    "        self.printEuler(u)\n",
    "        print(\"===================================\")"
   ]
  },
  {
   "cell_type": "code",
   "execution_count": 29,
   "metadata": {},
   "outputs": [
    {
     "name": "stdout",
     "output_type": "stream",
     "text": [
      "===================================\n",
      "2-0\n",
      "0-1\n",
      "1-2\n",
      "2-3\n",
      "===================================\n"
     ]
    }
   ],
   "source": [
    "g1 = Graph(4) \n",
    "g1.addEdge(0, 1) \n",
    "g1.addEdge(0, 2) \n",
    "g1.addEdge(1, 2) \n",
    "g1.addEdge(2, 3) \n",
    "g1.printEulerTour() \n"
   ]
  },
  {
   "cell_type": "code",
   "execution_count": null,
   "metadata": {},
   "outputs": [],
   "source": []
  },
  {
   "cell_type": "code",
   "execution_count": null,
   "metadata": {},
   "outputs": [],
   "source": []
  }
 ],
 "metadata": {
  "kernelspec": {
   "display_name": "Python 3",
   "language": "python",
   "name": "python3"
  },
  "language_info": {
   "codemirror_mode": {
    "name": "ipython",
    "version": 3
   },
   "file_extension": ".py",
   "mimetype": "text/x-python",
   "name": "python",
   "nbconvert_exporter": "python",
   "pygments_lexer": "ipython3",
   "version": "3.7.1"
  }
 },
 "nbformat": 4,
 "nbformat_minor": 2
}
