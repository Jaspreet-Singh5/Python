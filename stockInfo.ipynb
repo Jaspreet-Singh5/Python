{
 "cells": [
  {
   "cell_type": "code",
   "execution_count": 1,
   "metadata": {},
   "outputs": [
    {
     "name": "stdout",
     "output_type": "stream",
     "text": [
      "Warning - Certain functionality requires requests_html,\n",
      "             which is not installed.  Install using: \n",
      "             pip install requests_html\n",
      "             \n",
      "             After installation, you may have to restart your Python session.\n"
     ]
    }
   ],
   "source": [
    "import requests\n",
    "import json\n",
    "from tkinter import *\n",
    "from tkinter import messagebox\n",
    "import tkinter.scrolledtext as ScrolledText\n",
    "# import stock_info module from yahoo_fin\n",
    "from yahoo_fin import stock_info as si\n",
    "import tkinter as tk\n",
    "import matplotlib\n",
    "matplotlib.use(\"TkAgg\")\n",
    "from matplotlib.backends.backend_tkagg import FigureCanvasTkAgg\n",
    "from matplotlib.backends.backend_qt4agg import NavigationToolbar2QT\n",
    "from matplotlib.figure import Figure"
   ]
  },
  {
   "cell_type": "code",
   "execution_count": 2,
   "metadata": {},
   "outputs": [],
   "source": [
    "root = Tk(className=' Quote Tracker')\n",
    "root.config(bg='#2c3e50')\n",
    "top = Toplevel()"
   ]
  },
  {
   "cell_type": "code",
   "execution_count": 3,
   "metadata": {},
   "outputs": [],
   "source": [
    "symbolLabel = Label(root,bg='#3498db',fg='#ffffff',font=('Open Sans',16,'bold'),text='Symbol')\n",
    "symbol = Entry(root,bd=2,bg='#74b9ff',fg='white',font=('Open Sans',12,'bold italic'),cursor='spider')"
   ]
  },
  {
   "cell_type": "code",
   "execution_count": 4,
   "metadata": {},
   "outputs": [],
   "source": [
    "def getData():\n",
    "    if len(symbol.get()) == 0:\n",
    "        messagebox.showerror('Invalid',\"Symbol shouldn't be empty\")\n",
    "        return\n",
    "    \n",
    "    try:\n",
    "        price = int(si.get_live_price(symbol.get()))\n",
    "    except ValueError:\n",
    "        messagebox.showerror('Error','Symbol not found')\n",
    "        return\n",
    "    except:\n",
    "        messagebox.showerror('Error','Something went wrong :(')\n",
    "        return\n",
    "    \n",
    "    url = f\"https://www.worldtradingdata.com/api/v1/history?symbol={symbol.get()}&sort=newest&api_token=rMrBVvqPGS1rBdQBrLcK9VgsgWri8OXcveJcpXQP9ed5Z7Dw8iW5QCcvm46C\"\n",
    "    response = requests.get(url)\n",
    "    data = response.text\n",
    "    parsed = json.loads(data)\n",
    "    \n",
    "    closePrice = []\n",
    "    for date, s_info in parsed['history'].items():\n",
    "        closePrice.append(s_info['close'])\n",
    "    closePrice = list(map(float, closePrice))\n",
    "\n",
    "    global T2\n",
    "    T2 = Label(top, text=parsed['name'])\n",
    "    T2.pack(pady=10,padx=10)\n",
    "    \n",
    "    global T\n",
    "    T = Label(top,text=price)\n",
    "    T.pack(pady=10,padx=10)\n",
    "    \n",
    "    if price >= closePrice[0]:\n",
    "        T.config(fg='green')\n",
    "    else:\n",
    "        T.config(fg='red')\n",
    "    \n",
    "    f = Figure(figsize=(5,5), dpi=100)\n",
    "    \n",
    "    a = f.add_subplot(111)\n",
    "    \n",
    "    x = closePrice[60::-1]\n",
    "    y = list(range(len(x)))\n",
    "    \n",
    "    if closePrice[0] >= closePrice[1]: \n",
    "        a.plot(y,x,color='green')\n",
    "    else:\n",
    "            a.plot(y,x,color='red')\n",
    "            \n",
    "    global canvas\n",
    "    canvas = FigureCanvasTkAgg(f, top)\n",
    "    canvas.draw()\n",
    "    canvas.get_tk_widget().pack(side=tk.BOTTOM, fill=tk.BOTH, expand=True)\n",
    "    canvas._tkcanvas.pack(side=tk.TOP, fill=tk.BOTH, expand=True)\n",
    "    \n",
    "    top.after(10000,updateData)"
   ]
  },
  {
   "cell_type": "code",
   "execution_count": 5,
   "metadata": {},
   "outputs": [],
   "source": [
    "def updateData():\n",
    "    try:\n",
    "        price = int(si.get_live_price(symbol.get()))\n",
    "    except ValueError:\n",
    "        messagebox.showerror('Error','Symbol not found')\n",
    "        return\n",
    "    except _tkinter.TclError:\n",
    "        return\n",
    "    except:\n",
    "        messagebox.showerror('Error','Something went wrong :(')\n",
    "        return\n",
    "    \n",
    "    try:\n",
    "        T.config(text=price)\n",
    "    except:\n",
    "        return\n",
    "    \n",
    "    print('a')\n",
    "    \n",
    "    top.after(10000,updateData)"
   ]
  },
  {
   "cell_type": "code",
   "execution_count": 6,
   "metadata": {},
   "outputs": [],
   "source": [
    "def reset():\n",
    "    T.destroy()\n",
    "    T2.destroy()\n",
    "    canvas.get_tk_widget().destroy()"
   ]
  },
  {
   "cell_type": "code",
   "execution_count": 7,
   "metadata": {},
   "outputs": [],
   "source": [
    "btn = Button(root,command=getData)"
   ]
  },
  {
   "cell_type": "code",
   "execution_count": 8,
   "metadata": {},
   "outputs": [],
   "source": [
    "btn.config(text='Get Data',activebackground='#74b9ff',fg='white',font=('Open Sans',12,'bold'),bg='#0984e3')"
   ]
  },
  {
   "cell_type": "code",
   "execution_count": 9,
   "metadata": {},
   "outputs": [],
   "source": [
    "btn2 = Button(root,command=reset)"
   ]
  },
  {
   "cell_type": "code",
   "execution_count": 10,
   "metadata": {},
   "outputs": [],
   "source": [
    "btn2.config(text='Reset',activebackground='#74b9ff',fg='white',font=('Open Sans',12,'bold'),bg='#0984e3')"
   ]
  },
  {
   "cell_type": "code",
   "execution_count": 11,
   "metadata": {},
   "outputs": [],
   "source": [
    "symbolLabel.grid(row=1,columnspan=2,ipadx=2,ipady=2,padx=3,pady=3)\n",
    "symbol.grid(row=1,column=3,columnspan=10,ipadx=2,ipady=2,padx=3,pady=3)\n",
    "btn.grid(row=2,column=4,columnspan=6,ipadx=2,ipady=2,padx=3,pady=3)\n",
    "btn2.grid(row=3,column=4,columnspan=6,ipadx=2,ipady=2,padx=3,pady=3)"
   ]
  },
  {
   "cell_type": "code",
   "execution_count": 12,
   "metadata": {},
   "outputs": [
    {
     "name": "stdout",
     "output_type": "stream",
     "text": [
      "a\n",
      "a\n",
      "a\n",
      "a\n",
      "a\n"
     ]
    }
   ],
   "source": [
    "mainloop()\n",
    "#################################\n",
    "##############################\n",
    "###################################"
   ]
  },
  {
   "cell_type": "markdown",
   "metadata": {},
   "source": []
  },
  {
   "cell_type": "markdown",
   "metadata": {},
   "source": []
  },
  {
   "cell_type": "code",
   "execution_count": 273,
   "metadata": {},
   "outputs": [
    {
     "name": "stdout",
     "output_type": "stream",
     "text": [
      "d1 = 2019-09-05\n"
     ]
    }
   ],
   "source": []
  },
  {
   "cell_type": "code",
   "execution_count": null,
   "metadata": {},
   "outputs": [],
   "source": []
  },
  {
   "cell_type": "code",
   "execution_count": null,
   "metadata": {},
   "outputs": [],
   "source": []
  },
  {
   "cell_type": "code",
   "execution_count": null,
   "metadata": {},
   "outputs": [],
   "source": []
  },
  {
   "cell_type": "code",
   "execution_count": 54,
   "metadata": {},
   "outputs": [],
   "source": []
  },
  {
   "cell_type": "code",
   "execution_count": null,
   "metadata": {},
   "outputs": [],
   "source": []
  },
  {
   "cell_type": "code",
   "execution_count": null,
   "metadata": {},
   "outputs": [],
   "source": []
  },
  {
   "cell_type": "code",
   "execution_count": null,
   "metadata": {},
   "outputs": [],
   "source": []
  },
  {
   "cell_type": "code",
   "execution_count": null,
   "metadata": {},
   "outputs": [],
   "source": []
  },
  {
   "cell_type": "code",
   "execution_count": null,
   "metadata": {},
   "outputs": [],
   "source": []
  },
  {
   "cell_type": "code",
   "execution_count": null,
   "metadata": {},
   "outputs": [],
   "source": []
  },
  {
   "cell_type": "code",
   "execution_count": null,
   "metadata": {},
   "outputs": [],
   "source": []
  },
  {
   "cell_type": "code",
   "execution_count": null,
   "metadata": {},
   "outputs": [],
   "source": []
  },
  {
   "cell_type": "code",
   "execution_count": null,
   "metadata": {},
   "outputs": [],
   "source": []
  },
  {
   "cell_type": "code",
   "execution_count": null,
   "metadata": {},
   "outputs": [],
   "source": []
  },
  {
   "cell_type": "code",
   "execution_count": null,
   "metadata": {},
   "outputs": [],
   "source": []
  },
  {
   "cell_type": "code",
   "execution_count": null,
   "metadata": {},
   "outputs": [],
   "source": []
  },
  {
   "cell_type": "code",
   "execution_count": null,
   "metadata": {},
   "outputs": [],
   "source": []
  },
  {
   "cell_type": "code",
   "execution_count": 43,
   "metadata": {},
   "outputs": [],
   "source": []
  },
  {
   "cell_type": "code",
   "execution_count": null,
   "metadata": {},
   "outputs": [],
   "source": []
  },
  {
   "cell_type": "code",
   "execution_count": null,
   "metadata": {},
   "outputs": [],
   "source": []
  },
  {
   "cell_type": "code",
   "execution_count": 44,
   "metadata": {},
   "outputs": [],
   "source": []
  },
  {
   "cell_type": "code",
   "execution_count": null,
   "metadata": {},
   "outputs": [],
   "source": []
  }
 ],
 "metadata": {
  "kernelspec": {
   "display_name": "Python 3",
   "language": "python",
   "name": "python3"
  },
  "language_info": {
   "codemirror_mode": {
    "name": "ipython",
    "version": 3
   },
   "file_extension": ".py",
   "mimetype": "text/x-python",
   "name": "python",
   "nbconvert_exporter": "python",
   "pygments_lexer": "ipython3",
   "version": "3.7.1"
  }
 },
 "nbformat": 4,
 "nbformat_minor": 2
}
