{
 "cells": [
  {
   "cell_type": "code",
   "execution_count": 12,
   "metadata": {},
   "outputs": [],
   "source": [
    "def prime(n):\n",
    "    nums = list(range(2,n+1))\n",
    "    marked = set()\n",
    "    \n",
    "    for i in nums:\n",
    "        if not i in marked:\n",
    "            for j in nums:\n",
    "                if j % i == 0 and j >= i**2:\n",
    "                    marked.add(j)\n",
    "    \n",
    "    for i in nums:\n",
    "        if i not in marked:\n",
    "            print(i)\n",
    "        \n",
    "    return marked"
   ]
  },
  {
   "cell_type": "code",
   "execution_count": 15,
   "metadata": {},
   "outputs": [
    {
     "name": "stdout",
     "output_type": "stream",
     "text": [
      "2\n",
      "3\n",
      "5\n",
      "7\n",
      "11\n",
      "13\n",
      "17\n",
      "19\n"
     ]
    },
    {
     "data": {
      "text/plain": [
       "{4, 6, 8, 9, 10, 12, 14, 15, 16, 18, 20, 21}"
      ]
     },
     "execution_count": 15,
     "metadata": {},
     "output_type": "execute_result"
    }
   ],
   "source": [
    "prime(21)"
   ]
  },
  {
   "cell_type": "code",
   "execution_count": null,
   "metadata": {},
   "outputs": [],
   "source": []
  }
 ],
 "metadata": {
  "kernelspec": {
   "display_name": "Python 3",
   "language": "python",
   "name": "python3"
  },
  "language_info": {
   "codemirror_mode": {
    "name": "ipython",
    "version": 3
   },
   "file_extension": ".py",
   "mimetype": "text/x-python",
   "name": "python",
   "nbconvert_exporter": "python",
   "pygments_lexer": "ipython3",
   "version": "3.7.1"
  }
 },
 "nbformat": 4,
 "nbformat_minor": 2
}
