{
 "cells": [
  {
   "cell_type": "code",
   "execution_count": 219,
   "metadata": {},
   "outputs": [],
   "source": [
    "import psutil\n",
    "from tkinter import *\n",
    "from tkinter import messagebox\n",
    "import humanfriendly"
   ]
  },
  {
   "cell_type": "code",
   "execution_count": 220,
   "metadata": {},
   "outputs": [],
   "source": [
    "root = Tk(className=' Bandwidth Monitor')"
   ]
  },
  {
   "cell_type": "code",
   "execution_count": 221,
   "metadata": {},
   "outputs": [],
   "source": [
    "def info():\n",
    "    global start\n",
    "    start = psutil.net_io_counters()\n",
    "    \n",
    "    messagebox.showinfo('Info','Session has started!!')\n",
    "    uploadData.config(text=f'{humanfriendly.format_size(round(((psutil.net_io_counters().bytes_sent - start.bytes_sent) / 1048576),2))}')\n",
    "    downloadData.config(text=f'{humanfriendly.format_size(round(((psutil.net_io_counters().bytes_recv - start.bytes_recv) / 1048576),2))}')\n",
    "    \n",
    "    root.after(10000,iterInfo)"
   ]
  },
  {
   "cell_type": "code",
   "execution_count": 222,
   "metadata": {},
   "outputs": [],
   "source": [
    "def iterInfo():\n",
    "    if uploadData.cget('text') == '' and downloadData.cget('text') == '':\n",
    "            print('Reset')\n",
    "            return\n",
    "        \n",
    "    try:\n",
    "        uploadData.config(text=f'{humanfriendly.format_size(round(((psutil.net_io_counters().bytes_sent - start.bytes_sent) / 1048576),2))}')\n",
    "        downloadData.config(text=f'{humanfriendly.format_size(round(((psutil.net_io_counters().bytes_recv - start.bytes_recv) / 1048576),2))}')\n",
    "    except:\n",
    "        print('Something went wrong')\n",
    "        return\n",
    "    root.after(1000,iterInfo)"
   ]
  },
  {
   "cell_type": "code",
   "execution_count": 223,
   "metadata": {},
   "outputs": [],
   "source": [
    "def reset():\n",
    "    uploadData.config(text='')\n",
    "    downloadData.config(text='')\n",
    "    messagebox.showinfo('Info','Session has finished!!')"
   ]
  },
  {
   "cell_type": "code",
   "execution_count": 224,
   "metadata": {},
   "outputs": [],
   "source": [
    "upload = Label(text='Uploaded data').grid(row=1,columnspan=3)\n",
    "download = Label(text='Downloaded data').grid(row=2,columnspan=3)\n",
    "uploadData = Label()\n",
    "uploadData.grid(row=1,column=5,columnspan=3)\n",
    "downloadData = Label()\n",
    "downloadData.grid(row=2,column=5,columnspan=3)"
   ]
  },
  {
   "cell_type": "code",
   "execution_count": 225,
   "metadata": {},
   "outputs": [],
   "source": [
    "btn1 = Button(text='Start',command=info).grid(row=3,column=1)\n",
    "btn2 = Button(text='Reset',command=reset).grid(row=3,column=4)"
   ]
  },
  {
   "cell_type": "code",
   "execution_count": 226,
   "metadata": {},
   "outputs": [
    {
     "name": "stdout",
     "output_type": "stream",
     "text": [
      "Reset\n"
     ]
    }
   ],
   "source": [
    "mainloop()"
   ]
  },
  {
   "cell_type": "code",
   "execution_count": null,
   "metadata": {},
   "outputs": [],
   "source": []
  }
 ],
 "metadata": {
  "kernelspec": {
   "display_name": "Python 3",
   "language": "python",
   "name": "python3"
  },
  "language_info": {
   "codemirror_mode": {
    "name": "ipython",
    "version": 3
   },
   "file_extension": ".py",
   "mimetype": "text/x-python",
   "name": "python",
   "nbconvert_exporter": "python",
   "pygments_lexer": "ipython3",
   "version": "3.7.1"
  }
 },
 "nbformat": 4,
 "nbformat_minor": 2
}
