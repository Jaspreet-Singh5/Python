{
 "cells": [
  {
   "cell_type": "code",
   "execution_count": 1,
   "metadata": {},
   "outputs": [],
   "source": [
    "import hashedindex\n",
    "from collections import Counter"
   ]
  },
  {
   "cell_type": "code",
   "execution_count": 2,
   "metadata": {},
   "outputs": [],
   "source": [
    "index = hashedindex.HashedIndex()"
   ]
  },
  {
   "cell_type": "code",
   "execution_count": 3,
   "metadata": {},
   "outputs": [
    {
     "data": {
      "text/plain": [
       "{'hello': Counter({'document1.txt': 1}),\n",
       " 'world': Counter({'document1.txt': 1})}"
      ]
     },
     "execution_count": 3,
     "metadata": {},
     "output_type": "execute_result"
    }
   ],
   "source": [
    "index.add_term_occurrence('hello', 'document1.txt')\n",
    "index.add_term_occurrence('world', 'document1.txt')\n",
    "\n",
    "index.get_documents('hello')\n",
    "Counter({'document1.txt': 1})\n",
    "\n",
    "index.items()\n",
    "{'hello': Counter({'document1.txt': 1}),\n",
    "'world': Counter({'document1.txt': 1})}"
   ]
  },
  {
   "cell_type": "code",
   "execution_count": 4,
   "metadata": {},
   "outputs": [],
   "source": [
    "example = 'The Quick Brown Fox Jumps Over The Lazy Dog'\n",
    "\n",
    "for term in example.split():\n",
    "    index.add_term_occurrence(term, 'document2.txt')"
   ]
  },
  {
   "cell_type": "code",
   "execution_count": 5,
   "metadata": {},
   "outputs": [
    {
     "data": {
      "text/plain": [
       "{'foo': Counter({10: 1}), ('fire', 'fox'): Counter({90.2: 1})}"
      ]
     },
     "execution_count": 5,
     "metadata": {},
     "output_type": "execute_result"
    }
   ],
   "source": [
    "index.add_term_occurrence('foo', 10)\n",
    "index.add_term_occurrence(('fire', 'fox'), 90.2)\n",
    "\n",
    "index.items()\n",
    "{'foo': Counter({10: 1}), ('fire', 'fox'): Counter({90.2: 1})}"
   ]
  },
  {
   "cell_type": "code",
   "execution_count": null,
   "metadata": {},
   "outputs": [],
   "source": []
  }
 ],
 "metadata": {
  "kernelspec": {
   "display_name": "Python 3",
   "language": "python",
   "name": "python3"
  },
  "language_info": {
   "codemirror_mode": {
    "name": "ipython",
    "version": 3
   },
   "file_extension": ".py",
   "mimetype": "text/x-python",
   "name": "python",
   "nbconvert_exporter": "python",
   "pygments_lexer": "ipython3",
   "version": "3.7.1"
  }
 },
 "nbformat": 4,
 "nbformat_minor": 2
}
