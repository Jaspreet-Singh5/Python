{
 "cells": [
  {
   "cell_type": "code",
   "execution_count": 1,
   "metadata": {},
   "outputs": [],
   "source": [
    "def  generate_key(string,key):\n",
    "    key = list(key)\n",
    "    \n",
    "    if len(key) == len(string):\n",
    "        return key\n",
    "    else:\n",
    "        for i in range(len(string) - len(key)):\n",
    "            key.append(key[i % len(key)])\n",
    "    return ''.join(key)"
   ]
  },
  {
   "cell_type": "code",
   "execution_count": 2,
   "metadata": {},
   "outputs": [],
   "source": [
    "def encrypt(string,key):\n",
    "    cipher_text = []\n",
    "    for i in range(len(string)):\n",
    "        x = (ord(string[i]) + ord(key[i])) % 26\n",
    "        x += ord('A')\n",
    "        cipher_text.append(chr(x))\n",
    "    return (''.join(cipher_text))"
   ]
  },
  {
   "cell_type": "code",
   "execution_count": 3,
   "metadata": {},
   "outputs": [],
   "source": [
    "def decrypt(cipher_text,key):\n",
    "    original_text = []\n",
    "    for i in range(len(cipher_text)):\n",
    "        x = (ord(cipher_text[i]) - ord(key[i]) + 26) % 26\n",
    "        x += ord('A')\n",
    "        original_text.append(chr(x))\n",
    "    return (''.join(original_text))"
   ]
  },
  {
   "cell_type": "code",
   "execution_count": 4,
   "metadata": {},
   "outputs": [],
   "source": [
    "def shell():\n",
    "    while True:\n",
    "        print('\\n')\n",
    "        print('Choose one of the following options')\n",
    "        \n",
    "        try:\n",
    "            opt = input('1. ENCRYPT \\n2.DECRYPT or enter zero to exit: ')\n",
    "        except:\n",
    "            print('Sorry! something went wrong :(')\n",
    "            continue\n",
    "        else:\n",
    "            if opt == '0':\n",
    "                break\n",
    "                \n",
    "            if opt != '1' and opt != '2':\n",
    "                print('Wrong option')\n",
    "                continue\n",
    "        \n",
    "        if opt == '1':\n",
    "            try:\n",
    "                print('\\n')\n",
    "                message = input('Enter any plaintext message: ')\n",
    "                keyword = input('Enter any key: ')\n",
    "                key = generate_key(message,keyword)\n",
    "                encrypted_message = encrypt(message,key)\n",
    "            except:\n",
    "                print('Something went wrong :(')\n",
    "                break\n",
    "            \n",
    "            print('>>>',end=' ')\n",
    "            print(encrypted_message)\n",
    "            \n",
    "        elif opt == '2':\n",
    "            try:\n",
    "                print('\\n')\n",
    "                message = input('Enter any encrypted message: ')\n",
    "                keyword = input('Enter the appropriate key: ')\n",
    "                key = generate_key(message,keyword)\n",
    "                decrypted_message = decrypt(message,key)\n",
    "            except:\n",
    "                print('Something went wrong :(')\n",
    "                break\n",
    "            \n",
    "            print('>>>',end=' ')\n",
    "            print(decrypted_message)"
   ]
  },
  {
   "cell_type": "code",
   "execution_count": null,
   "metadata": {},
   "outputs": [
    {
     "name": "stdout",
     "output_type": "stream",
     "text": [
      "\n",
      "\n",
      "Choose one of the following options\n",
      "1. ENCRYPT \n",
      "2.DECRYPT or enter zero to exit: 1\n",
      "\n",
      "\n",
      "Enter any plaintext message: asd asdasd\n",
      "Enter any key: sdfas\n",
      ">>> EHUZEWSREH\n",
      "\n",
      "\n",
      "Choose one of the following options\n",
      "1. ENCRYPT \n",
      "2.DECRYPT or enter zero to exit: 2\n",
      "\n",
      "\n",
      "Enter any encrypted message: EHUZEWSREH\n",
      "Enter the appropriate key: sdfas\n",
      ">>> GYJTGYJGYJ\n",
      "\n",
      "\n",
      "Choose one of the following options\n",
      "1. ENCRYPT \n",
      "2.DECRYPT or enter zero to exit: 1\n",
      "\n",
      "\n",
      "Enter any plaintext message: asd asdasd\n",
      "Enter any key: sdfas\n",
      ">>> EHUZEWSREH\n",
      "\n",
      "\n",
      "Choose one of the following options\n",
      "1. ENCRYPT \n",
      "2.DECRYPT or enter zero to exit: 2\n",
      "\n",
      "\n",
      "Enter any encrypted message: EHUZEWSREH\n",
      "Enter the appropriate key: sdfas\n",
      ">>> GYJTGYJGYJ\n",
      "\n",
      "\n",
      "Choose one of the following options\n"
     ]
    }
   ],
   "source": [
    "if __name__ == '__main__':\n",
    "    shell()"
   ]
  },
  {
   "cell_type": "code",
   "execution_count": null,
   "metadata": {},
   "outputs": [],
   "source": []
  }
 ],
 "metadata": {
  "kernelspec": {
   "display_name": "Python 3",
   "language": "python",
   "name": "python3"
  },
  "language_info": {
   "codemirror_mode": {
    "name": "ipython",
    "version": 3
   },
   "file_extension": ".py",
   "mimetype": "text/x-python",
   "name": "python",
   "nbconvert_exporter": "python",
   "pygments_lexer": "ipython3",
   "version": "3.7.1"
  }
 },
 "nbformat": 4,
 "nbformat_minor": 2
}
