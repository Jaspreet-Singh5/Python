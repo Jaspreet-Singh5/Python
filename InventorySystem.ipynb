{
 "cells": [
  {
   "cell_type": "code",
   "execution_count": 1,
   "metadata": {},
   "outputs": [],
   "source": [
    "class Product:\n",
    "    def __init__(self,price,Id,quantity):\n",
    "        self.price = price\n",
    "        self.Id = Id\n",
    "        self.quantity = quantity"
   ]
  },
  {
   "cell_type": "code",
   "execution_count": 2,
   "metadata": {},
   "outputs": [],
   "source": [
    "class Inventory:\n",
    "    def __init__(self,n=0,products=[]):\n",
    "        self.n = n\n",
    "        self.products = products\n",
    "        \n",
    "    def addProduct(self):\n",
    "        self.n += 1\n",
    "        \n",
    "        while True:\n",
    "            try:\n",
    "                price = int(input(f'Enter the price of product no.{self.n} '))\n",
    "                quantity = int(input(f'Enter the quantity of product no.{self.n} '))\n",
    "            except:\n",
    "                print('Something went wrong :(')\n",
    "                continue\n",
    "            finally:\n",
    "                break\n",
    "        \n",
    "        product = Product(price,self.n,quantity)\n",
    "        self.products.append(product)\n",
    "        \n",
    "    def sumUp(self):\n",
    "        sum = 0\n",
    "        for i in self.products:\n",
    "            sum += i.quantity * i.price\n",
    "        \n",
    "        return sum"
   ]
  },
  {
   "cell_type": "code",
   "execution_count": 3,
   "metadata": {},
   "outputs": [],
   "source": [
    "inventory = Inventory()"
   ]
  },
  {
   "cell_type": "code",
   "execution_count": 4,
   "metadata": {},
   "outputs": [
    {
     "data": {
      "text/plain": [
       "__main__.Inventory"
      ]
     },
     "execution_count": 4,
     "metadata": {},
     "output_type": "execute_result"
    }
   ],
   "source": [
    "type(inventory)"
   ]
  },
  {
   "cell_type": "code",
   "execution_count": 5,
   "metadata": {},
   "outputs": [
    {
     "name": "stdout",
     "output_type": "stream",
     "text": [
      "Enter the price of product no.1 45\n",
      "Enter the quantity of product no.1 12\n"
     ]
    }
   ],
   "source": [
    "inventory.addProduct()"
   ]
  },
  {
   "cell_type": "code",
   "execution_count": 6,
   "metadata": {},
   "outputs": [
    {
     "name": "stdout",
     "output_type": "stream",
     "text": [
      "<__main__.Inventory object at 0x000001DDE7BBE6D8>\n"
     ]
    }
   ],
   "source": [
    "print(inventory)"
   ]
  },
  {
   "cell_type": "code",
   "execution_count": 7,
   "metadata": {},
   "outputs": [
    {
     "data": {
      "text/plain": [
       "540"
      ]
     },
     "execution_count": 7,
     "metadata": {},
     "output_type": "execute_result"
    }
   ],
   "source": [
    "inventory.sumUp()"
   ]
  },
  {
   "cell_type": "code",
   "execution_count": null,
   "metadata": {},
   "outputs": [],
   "source": []
  }
 ],
 "metadata": {
  "kernelspec": {
   "display_name": "Python 3",
   "language": "python",
   "name": "python3"
  },
  "language_info": {
   "codemirror_mode": {
    "name": "ipython",
    "version": 3
   },
   "file_extension": ".py",
   "mimetype": "text/x-python",
   "name": "python",
   "nbconvert_exporter": "python",
   "pygments_lexer": "ipython3",
   "version": "3.7.1"
  }
 },
 "nbformat": 4,
 "nbformat_minor": 2
}
