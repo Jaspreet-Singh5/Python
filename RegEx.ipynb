{
 "cells": [
  {
   "cell_type": "code",
   "execution_count": 1,
   "metadata": {},
   "outputs": [],
   "source": [
    "import re"
   ]
  },
  {
   "cell_type": "code",
   "execution_count": null,
   "metadata": {},
   "outputs": [
    {
     "name": "stdout",
     "output_type": "stream",
     "text": [
      "Enter any string or enter zero to exit: asdasd asdasd\n",
      "Enter any regular expression: asd\n",
      "Result no.1 - asd\n"
     ]
    }
   ],
   "source": [
    "while True:\n",
    "    try:\n",
    "        line = input('Enter any string or enter zero to exit: ')\n",
    "    except:\n",
    "        print('Something went wrong :(')\n",
    "        continue\n",
    "    else:\n",
    "        if line == '0':\n",
    "            break\n",
    "    \n",
    "    try:\n",
    "        regx = input('Enter any regular expression: ')\n",
    "        searchObj = re.search(regx, line, re.M|re.I)\n",
    "    except re.error:\n",
    "        print('Invalid regular expression')\n",
    "        continue\n",
    "    except:\n",
    "        print('Something went wrong :(')\n",
    "        continue\n",
    "          \n",
    "    if searchObj:\n",
    "        for i in range(len(searchObj.groups())+1):\n",
    "            print(f\"Result no.{i+1} - {searchObj.group(i)}\")\n",
    "    else:\n",
    "        print(\"Nothing found!!\")"
   ]
  },
  {
   "cell_type": "code",
   "execution_count": null,
   "metadata": {},
   "outputs": [],
   "source": []
  }
 ],
 "metadata": {
  "kernelspec": {
   "display_name": "Python 3",
   "language": "python",
   "name": "python3"
  },
  "language_info": {
   "codemirror_mode": {
    "name": "ipython",
    "version": 3
   },
   "file_extension": ".py",
   "mimetype": "text/x-python",
   "name": "python",
   "nbconvert_exporter": "python",
   "pygments_lexer": "ipython3",
   "version": "3.7.1"
  }
 },
 "nbformat": 4,
 "nbformat_minor": 2
}
