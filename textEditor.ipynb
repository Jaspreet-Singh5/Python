{
 "cells": [
  {
   "cell_type": "code",
   "execution_count": 1,
   "metadata": {},
   "outputs": [],
   "source": [
    "import os\n",
    "from tkinter import *\n",
    "from tkinter.filedialog import askopenfile, asksaveasfile\n",
    "from tkinter import messagebox, simpledialog\n",
    "import tkinter.scrolledtext as ScrolledText"
   ]
  },
  {
   "cell_type": "code",
   "execution_count": 2,
   "metadata": {},
   "outputs": [],
   "source": [
    "root = Tk(className=' Untitled - Text Editor')"
   ]
  },
  {
   "cell_type": "code",
   "execution_count": 3,
   "metadata": {},
   "outputs": [],
   "source": [
    "T = ScrolledText.ScrolledText(root,width=100,height=80,insertbackground='red',highlightcolor='red',bg='black',fg='white',font=(\"Open Sans\", \"18\"))\n",
    "T.pack()"
   ]
  },
  {
   "cell_type": "code",
   "execution_count": 4,
   "metadata": {},
   "outputs": [],
   "source": [
    "def newFile():\n",
    "    data = T.get('1.0',END+'-1c')\n",
    "    \n",
    "    if len(data) != 0:\n",
    "        saveFile()\n",
    "    T.delete('1.0',END)\n",
    "    root.title(' Untitled - Text Editor')"
   ]
  },
  {
   "cell_type": "code",
   "execution_count": 5,
   "metadata": {},
   "outputs": [],
   "source": [
    "def openFile():\n",
    "    file = askopenfile(mode='r',filetypes=[('Text files','*.txt'),  \n",
    "             ('Python Files', '*.py'),('All files','*.*')])\n",
    "    \n",
    "    if file is not None:\n",
    "        root.title(os.path.basename(file.name) + ' - Text Editor')\n",
    "        content = file.read()\n",
    "        T.delete('1.0', END)\n",
    "        T.insert(END, content)\n",
    "    file.close()"
   ]
  },
  {
   "cell_type": "code",
   "execution_count": 12,
   "metadata": {},
   "outputs": [],
   "source": [
    "def saveFile():\n",
    "    files = [('All Files', '*.*'),  \n",
    "             ('Python Files', '*.py'), \n",
    "             ('Text Document', '*.txt')] \n",
    "    file = asksaveasfile(filetypes = files, defaultextension = files)\n",
    "\n",
    "    if file is not None:\n",
    "        root.title(os.path.basename(file.name) + ' - Text Editor')\n",
    "        data = T.get('1.0',END+'-1c')\n",
    "        file.write(data)\n",
    "        file.close()"
   ]
  },
  {
   "cell_type": "code",
   "execution_count": 6,
   "metadata": {},
   "outputs": [],
   "source": [
    "def findFile():\n",
    "    ask = simpledialog.askstring('Find','Enter the text you want to find')\n",
    "    \n",
    "    if T.get('1.0',END+'-1c').count(ask) == 1:\n",
    "        messagebox.showinfo('Find','Single occurance find for: ' + ask)\n",
    "    elif T.get('1.0',END+'-1c').count(ask) > 0:\n",
    "        messagebox.showinfo('Find','Multiple occurances find for: ' + ask)\n",
    "    else:\n",
    "        messagebox.showinfo('Find','No occurance find for: ' + ask)"
   ]
  },
  {
   "cell_type": "code",
   "execution_count": 7,
   "metadata": {},
   "outputs": [],
   "source": [
    "def exitFile():\n",
    "    ask = messagebox.askyesno('Exit','Are you sure you want to exit?')\n",
    "    \n",
    "    if ask:\n",
    "        root.destroy()"
   ]
  },
  {
   "cell_type": "code",
   "execution_count": 8,
   "metadata": {},
   "outputs": [],
   "source": [
    "def about():\n",
    "    messagebox.showinfo('About','A python alternative to Notepad')"
   ]
  },
  {
   "cell_type": "code",
   "execution_count": 9,
   "metadata": {},
   "outputs": [],
   "source": [
    "menu = Menu(root)\n",
    "root.config(menu=menu)"
   ]
  },
  {
   "cell_type": "code",
   "execution_count": 13,
   "metadata": {},
   "outputs": [],
   "source": [
    "filemenu = Menu(menu, background='#2c3e50', foreground='#bdc3c7', activebackground='#34495e', activeforeground='#ecf0f1')\n",
    "menu.add_cascade(label='File',menu=filemenu)\n",
    "filemenu.add_command(label='New',command=newFile)\n",
    "filemenu.add_command(label='Open',command=openFile)\n",
    "filemenu.add_command(label='Find',command=findFile)\n",
    "filemenu.add_command(label='Save',command=saveFile)\n",
    "filemenu.add_separator()\n",
    "filemenu.add_command(label='Exit',command=exitFile)"
   ]
  },
  {
   "cell_type": "code",
   "execution_count": 14,
   "metadata": {},
   "outputs": [],
   "source": [
    "helpmenu = Menu(menu, background='#2c3e50', foreground='#bdc3c7', activebackground='#34495e', activeforeground='#ecf0f1')\n",
    "menu.add_cascade(label='Help',menu=helpmenu)\n",
    "helpmenu.add_command(label='About',command=about)\n",
    "helpmenu.add_command(label='Help')"
   ]
  },
  {
   "cell_type": "code",
   "execution_count": 15,
   "metadata": {},
   "outputs": [],
   "source": [
    "mainloop()"
   ]
  },
  {
   "cell_type": "code",
   "execution_count": null,
   "metadata": {},
   "outputs": [],
   "source": []
  },
  {
   "cell_type": "code",
   "execution_count": null,
   "metadata": {},
   "outputs": [],
   "source": []
  },
  {
   "cell_type": "code",
   "execution_count": null,
   "metadata": {},
   "outputs": [],
   "source": []
  }
 ],
 "metadata": {
  "kernelspec": {
   "display_name": "Python 3",
   "language": "python",
   "name": "python3"
  },
  "language_info": {
   "codemirror_mode": {
    "name": "ipython",
    "version": 3
   },
   "file_extension": ".py",
   "mimetype": "text/x-python",
   "name": "python",
   "nbconvert_exporter": "python",
   "pygments_lexer": "ipython3",
   "version": "3.7.1"
  }
 },
 "nbformat": 4,
 "nbformat_minor": 2
}
