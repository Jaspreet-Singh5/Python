{
 "cells": [
  {
   "cell_type": "code",
   "execution_count": 10,
   "metadata": {},
   "outputs": [],
   "source": [
    "from geopy.geocoders import Nominatim\n",
    "from geopy import distance\n",
    "import time"
   ]
  },
  {
   "cell_type": "code",
   "execution_count": 11,
   "metadata": {},
   "outputs": [],
   "source": [
    "geolocator = Nominatim(user_agent=\"findDistance\")"
   ]
  },
  {
   "cell_type": "code",
   "execution_count": 12,
   "metadata": {},
   "outputs": [
    {
     "name": "stdout",
     "output_type": "stream",
     "text": [
      "Chandigarh, 160022, India\n"
     ]
    }
   ],
   "source": [
    "location = geolocator.geocode(\"Chandigarh\")\n",
    "print(location.address)\n"
   ]
  },
  {
   "cell_type": "code",
   "execution_count": 13,
   "metadata": {},
   "outputs": [
    {
     "name": "stdout",
     "output_type": "stream",
     "text": [
      "(30.7194022, 76.7646552)\n"
     ]
    }
   ],
   "source": [
    "print((location.latitude, location.longitude))"
   ]
  },
  {
   "cell_type": "code",
   "execution_count": 14,
   "metadata": {},
   "outputs": [
    {
     "name": "stdout",
     "output_type": "stream",
     "text": [
      "{'place_id': 2131290, 'licence': 'Data © OpenStreetMap contributors, ODbL 1.0. https://osm.org/copyright', 'osm_type': 'node', 'osm_id': 342117043, 'boundingbox': ['30.5594022', '30.8794022', '76.6046552', '76.9246552'], 'lat': '30.7194022', 'lon': '76.7646552', 'display_name': 'Chandigarh, 160022, India', 'class': 'place', 'type': 'city', 'importance': 0.755126606575269, 'icon': 'https://nominatim.openstreetmap.org/images/mapicons/poi_place_city.p.20.png'}\n"
     ]
    }
   ],
   "source": [
    "print(location.raw)"
   ]
  },
  {
   "cell_type": "code",
   "execution_count": 15,
   "metadata": {},
   "outputs": [],
   "source": [
    "def coord(loc):\n",
    "    address = geolocator.geocode(loc)\n",
    "    return (address.latitude, address.longitude)"
   ]
  },
  {
   "cell_type": "code",
   "execution_count": 16,
   "metadata": {},
   "outputs": [
    {
     "data": {
      "text/plain": [
       "(35.6828387, 139.7594549)"
      ]
     },
     "execution_count": 16,
     "metadata": {},
     "output_type": "execute_result"
    }
   ],
   "source": [
    "coord(\"Tokyo\")"
   ]
  },
  {
   "cell_type": "code",
   "execution_count": null,
   "metadata": {},
   "outputs": [],
   "source": []
  },
  {
   "cell_type": "code",
   "execution_count": 18,
   "metadata": {},
   "outputs": [],
   "source": [
    "def getDist(loc1,loc2):\n",
    "    loc1Coord = coord(loc1)\n",
    "    loc2Coord = coord(loc2)\n",
    "    print(loc1Coord)\n",
    "    print(loc2Coord)\n",
    "    time.sleep(10)\n",
    "    print(\">>>\",end = ' ')\n",
    "    print(distance.great_circle(loc1Coord,loc2Coord).kilometers)"
   ]
  },
  {
   "cell_type": "code",
   "execution_count": 19,
   "metadata": {},
   "outputs": [
    {
     "name": "stdout",
     "output_type": "stream",
     "text": [
      "(30.6518301, 76.2998708)\n",
      "(28.6517178, 77.2219388)\n",
      ">>> 239.5843414004781\n"
     ]
    }
   ],
   "source": [
    "getDist('Mandi Gobindgarh','Delhi')"
   ]
  },
  {
   "cell_type": "code",
   "execution_count": 20,
   "metadata": {},
   "outputs": [],
   "source": [
    "def shell():\n",
    "    while True:\n",
    "        \n",
    "        try:\n",
    "            loc1 = input('Enter the name of first city or enter 0 to exit: ')\n",
    "            loc2 = input('Enter the name of second city or enter 0 to exit: ')\n",
    "        except:\n",
    "            print('Sorry! something went wrong')\n",
    "            continue\n",
    "        finally:\n",
    "            if loc1 == '0' or loc2 == '0':\n",
    "                break\n",
    "        \n",
    "        try:\n",
    "            getDist(loc1,loc2)\n",
    "        except:\n",
    "            print('Sorry! something went wrong')\n",
    "            continue"
   ]
  },
  {
   "cell_type": "code",
   "execution_count": null,
   "metadata": {},
   "outputs": [
    {
     "name": "stdout",
     "output_type": "stream",
     "text": [
      "Enter the name of first city or enter 0 to exit: Ludhiana\n",
      "Enter the name of second city or enter 0 to exit: Khanna\n",
      "(30.9090157, 75.851601)\n",
      "(25.5149659, 80.0468375)\n",
      ">>> 726.9673474200347\n"
     ]
    }
   ],
   "source": [
    "if __name__ == '__main__':\n",
    "    shell()"
   ]
  },
  {
   "cell_type": "code",
   "execution_count": null,
   "metadata": {},
   "outputs": [],
   "source": []
  }
 ],
 "metadata": {
  "kernelspec": {
   "display_name": "Python 3",
   "language": "python",
   "name": "python3"
  },
  "language_info": {
   "codemirror_mode": {
    "name": "ipython",
    "version": 3
   },
   "file_extension": ".py",
   "mimetype": "text/x-python",
   "name": "python",
   "nbconvert_exporter": "python",
   "pygments_lexer": "ipython3",
   "version": "3.7.1"
  }
 },
 "nbformat": 4,
 "nbformat_minor": 2
}
